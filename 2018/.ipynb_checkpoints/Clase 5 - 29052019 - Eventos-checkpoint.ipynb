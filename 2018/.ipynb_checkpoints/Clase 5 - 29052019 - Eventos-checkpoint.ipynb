{
 "cells": [
  {
   "cell_type": "markdown",
   "metadata": {},
   "source": [
    "# Funciones\n",
    "\n",
    "## dist(posX1, posY1, posX2, posY2)\n",
    "Esta función nos permite ver la distancia que existe entre dos puntos"
   ]
  },
  {
   "cell_type": "code",
   "execution_count": null,
   "metadata": {},
   "outputs": [],
   "source": [
    "int posX_P1;\n",
    "int posY_P1; \n",
    "int posX_P2;\n",
    "int posY_P2;\n",
    "\n",
    "void setup(){\n",
    "    size(400, 400);\n",
    "    textSize(20);\n",
    "    \n",
    "    posX_P1 = 100;\n",
    "    posY_P1 = 100; \n",
    "    posX_P2 = 300;\n",
    "    posY_P2 = 300;\n",
    "}\n",
    "void draw(){\n",
    "    background(200);\n",
    "    text(\"Distancia entre P1 y P2 :\" + dist(posX_P1, posY_P1, posX_P2, posY_P2), 10, 50);\n",
    "    line(posX_P1, posY_P1, posX_P2, posY_P2);\n",
    "}"
   ]
  },
  {
   "cell_type": "markdown",
   "metadata": {},
   "source": [
    "Podemos tambien ir viendo como la distancia varía cuando uno de los puntos se encuentra relacionado con variables. Tomemos como ejemplo una ellipse que se va alejando del origen (0,0) "
   ]
  },
  {
   "cell_type": "code",
   "execution_count": null,
   "metadata": {},
   "outputs": [],
   "source": [
    "int posX_P1;\n",
    "int posY_P1; \n",
    "int posX_P2;\n",
    "int posY_P2;\n",
    "void setup(){\n",
    "    size(400, 400);\n",
    "    textSize(20);\n",
    "    \n",
    "    posX_P1 = 0;\n",
    "    posY_P1 = 0; \n",
    "    posX_P2 = 0;\n",
    "    posY_P2 = 0;\n",
    "}\n",
    "void draw(){\n",
    "    background(200);\n",
    "    text(\"Distancia entre P1 y P2 :\" + dist(posX_P1, posY_P1, posX_P2, posY_P2), 10, 50);\n",
    "    line(posX_P1, posY_P1, posX_P2, posY_P2);\n",
    "    ellipse(posX_P2, posY_P2, 10, 10);\n",
    "    posX_P2++;\n",
    "    posY_P2++;\n",
    "}"
   ]
  },
  {
   "cell_type": "markdown",
   "metadata": {},
   "source": [
    "O podemos ver como se afecta la distancia en 2 puntos en movimiento, alejandose entre ellos"
   ]
  },
  {
   "cell_type": "code",
   "execution_count": null,
   "metadata": {},
   "outputs": [],
   "source": [
    "int posX_P1;\n",
    "int posY_P1; \n",
    "int posX_P2;\n",
    "int posY_P2;\n",
    "void setup(){\n",
    "    size(400, 400);\n",
    "    textSize(20);\n",
    "    \n",
    "    posX_P1 = width/2;\n",
    "    posY_P1 = height/2; \n",
    "    posX_P2 = width/2;\n",
    "    posY_P2 = height/2;\n",
    "}\n",
    "void draw(){\n",
    "    background(200);\n",
    "    text(\"Distancia entre P1 y P2 :\" + dist(posX_P1, posY_P1, posX_P2, posY_P2), 10, 50);\n",
    "    line(posX_P1, posY_P1, posX_P2, posY_P2);\n",
    "    ellipse(posX_P1, posY_P1, 10, 10);\n",
    "    ellipse(posX_P2, posY_P2, 10, 10);\n",
    "    posX_P1++;\n",
    "    posX_P2--;\n",
    "}"
   ]
  },
  {
   "cell_type": "markdown",
   "metadata": {},
   "source": [
    "## map(valor, rango1_inicio, rango1_fin, rango2_inicio, rango2_fin)\n",
    "Esta función permite calcular cual es el la proporción de un valor dentro de un rango de valores, ubicado en otro rango de valores. \n",
    "Por ejemplo, supongamos un rango de valores entre 0 y 100. Si tomamos el valor 50, vemos que este valor corresponde a la mitad del rango indicado. Pero que sucede si yo quiero llevar ese valor a otro rango, por ejemplo un rango de valores que va desde 0 hasta 200. El equivalente sería 100.\n",
    "Otro ejemplo, supongamos un rango de valores que va desde 0 hasta 400, pero yo solo quiero obtener ese rango dividio en 10 partes, o sea, el nuevo rango sería entre 0 y 10. Esta función me retornaría para un valor igual a 200 .... un 5 (la mitad del rango)."
   ]
  },
  {
   "cell_type": "markdown",
   "metadata": {},
   "source": [
    "Veamos el siguiente ejemplo, donde se arealiza una animación de un rectangulo avanzando de a 1 pixel hacia la derecha, y otro rectángulo aplicando la función map."
   ]
  },
  {
   "cell_type": "code",
   "execution_count": null,
   "metadata": {},
   "outputs": [],
   "source": [
    "int posX_P1;\n",
    "float posX_P2;\n",
    "float posX_P3;\n",
    "int tam;\n",
    "int max;\n",
    "void setup(){\n",
    "    size(400, 400);\n",
    "    textSize(20);\n",
    "    max = 10;\n",
    "    tam = round(width/max);\n",
    "    posX_P1 = 0;\n",
    "    posX_P2 = 0;\n",
    "    posX_P3 = 0;\n",
    "}\n",
    "void draw(){\n",
    "    background(200);\n",
    "    text(\"Valor posX_P1 : \" + posX_P1, 10, 200);\n",
    "    text(\"Valor posX_P2 : \" + posX_P2, 10, 250);\n",
    "    text(\"Valor floor(posX_P2) * tam: \" + posX_P3, 10, 300);\n",
    "    rect(posX_P1, 0, tam, tam);\n",
    "    rect(posX_P2, 50, tam, tam);\n",
    "    rect(posX_P3, 100, tam, tam);\n",
    "    posX_P1++;\n",
    "    posX_P2 = map(posX_P1, 0, width, 0, 10);\n",
    "    posX_P3 = floor(posX_P2) * tam;\n",
    "}"
   ]
  },
  {
   "cell_type": "markdown",
   "metadata": {},
   "source": [
    "Generamos rectángulos en posiciones aleatorias de la pantalla, pero dividiendo la pantalla en una grilla de 15 de ancho (columnas) por 7 de alto (filas)"
   ]
  },
  {
   "cell_type": "code",
   "execution_count": null,
   "metadata": {},
   "outputs": [],
   "source": [
    "float posX;\n",
    "float posY;\n",
    "int tamX, tamY;\n",
    "int col;\n",
    "int fila;\n",
    "\n",
    "void setup(){\n",
    "    size(400, 400);\n",
    "    col = 15;\n",
    "    fila = 7;\n",
    "    tamX = width / col;\n",
    "    tamY = height / fila;\n",
    "}\n",
    "void draw(){\n",
    "    posX = floor(map(random(0,width),0, width, 0, 15)) * tamX;\n",
    "    posY = floor(map(random(0,height),0, width, 0, 7)) * tamY;\n",
    "    rect(posX, posY, tamX, tamY);\n",
    "    \n",
    "}"
   ]
  },
  {
   "cell_type": "markdown",
   "metadata": {},
   "source": [
    "Generamos elipses con borde de color verde en posiciones aleatorias de la pantalla, pero con un color de transparencia proporcional a la distancia que poseen las mismas con respecto al centro de la pantalla. A medida que mas cerca se encuentran del centro, mas transparentes son."
   ]
  },
  {
   "cell_type": "code",
   "execution_count": null,
   "metadata": {},
   "outputs": [],
   "source": [
    "float posX;\n",
    "float posY;\n",
    "float distancia;\n",
    "float miColor;\n",
    "\n",
    "void setup(){\n",
    "    size(400, 400);\n",
    "    background(0);\n",
    "}\n",
    "void draw(){\n",
    "    noFill();\n",
    "    posX = random(0, width);\n",
    "    posY = random(0, height);\n",
    "    distancia = dist(width/2, height/2, posX, posY);\n",
    "    miColor = map(distancia, 0, width/2, 0, 100);\n",
    "    stroke(0, 255, 0, miColor);\n",
    "    ellipse(posX, posY, 30, 30);    \n",
    "}"
   ]
  },
  {
   "cell_type": "markdown",
   "metadata": {},
   "source": [
    " # Eventos\n",
    " \n",
    " ## mouseX y mouseY\n",
    " Al movernos por la pantalla, podemos obtener las posiciones en X e Y en las que se encuentra el mouse. Estas variables son mouseX y mouseY"
   ]
  },
  {
   "cell_type": "code",
   "execution_count": null,
   "metadata": {},
   "outputs": [],
   "source": [
    "void setup(){\n",
    "    size(400, 400);\n",
    "    textSize(30);\n",
    "}\n",
    "void draw(){\n",
    "    background(200);\n",
    "    text(\"mouseX: \" + mouseX, 100,100);\n",
    "    text(\"mouseY: \" + mouseY, 100,200);\n",
    "    line(0,0, mouseX, mouseY);\n",
    "}"
   ]
  },
  {
   "cell_type": "markdown",
   "metadata": {},
   "source": [
    "Ahora, trabajamos generando líneas que salen de las esquinas de la pantalla, pero cada una se hace mas transparente cuanto mas cerca se encuentra de la esquina de la cual se origina."
   ]
  },
  {
   "cell_type": "code",
   "execution_count": null,
   "metadata": {},
   "outputs": [],
   "source": [
    "float distancia;\n",
    "float miColor;\n",
    "\n",
    "void setup(){\n",
    "    size(400, 400);\n",
    "}\n",
    "void draw(){\n",
    "    //Línea 1\n",
    "    distancia = dist(0, 0, mouseX, mouseY);\n",
    "    miColor = map(distancia, 0, width, 0, 100);\n",
    "    stroke(0, 255, 0, miColor);\n",
    "    line(0,0, mouseX, mouseY);\n",
    "    //Línea 2\n",
    "    distancia = dist(width, 0, mouseX, mouseY);\n",
    "    miColor = map(distancia, 0, width, 0, 100);\n",
    "    stroke(0, 255, 0, miColor);\n",
    "    line(width,0, mouseX, mouseY);\n",
    "    //Línea 3\n",
    "    distancia = dist(0, height, mouseX, mouseY);\n",
    "    miColor = map(distancia, 0, width, 0, 100);\n",
    "    stroke(0, 255, 0, miColor);\n",
    "    line(0,height, mouseX, mouseY);\n",
    "    //Línea 4\n",
    "    distancia = dist(width, height, mouseX, mouseY);\n",
    "    miColor = map(distancia, 0, width, 0, 100);\n",
    "    stroke(0, 255, 0, miColor);\n",
    "    line(width,height, mouseX, mouseY);\n",
    "}"
   ]
  },
  {
   "cell_type": "code",
   "execution_count": null,
   "metadata": {},
   "outputs": [],
   "source": []
  }
 ],
 "metadata": {
  "kernelspec": {
   "display_name": "Calysto Processing",
   "language": "java",
   "name": "calysto_processing"
  },
  "language_info": {
   "codemirror_mode": {
    "name": "text/x-java",
    "version": 2
   },
   "file_extension": ".java",
   "mimetype": "text/x-java",
   "name": "java"
  }
 },
 "nbformat": 4,
 "nbformat_minor": 2
}
